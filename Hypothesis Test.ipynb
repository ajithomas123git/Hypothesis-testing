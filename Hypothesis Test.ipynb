{
 "cells": [
  {
   "cell_type": "code",
   "execution_count": null,
   "metadata": {},
   "outputs": [],
   "source": [
    "!pip install scipy==1.6.0"
   ]
  },
  {
   "cell_type": "code",
   "execution_count": 1,
   "metadata": {
    "ExecuteTime": {
     "end_time": "2021-08-28T06:12:47.226956Z",
     "start_time": "2021-08-28T06:12:45.474321Z"
    }
   },
   "outputs": [],
   "source": [
    "#import the libraries\n",
    "import pandas as pd\n",
    "import scipy \n",
    "import numpy as np\n",
    "from scipy import stats"
   ]
  },
  {
   "cell_type": "code",
   "execution_count": 2,
   "metadata": {},
   "outputs": [
    {
     "data": {
      "text/plain": [
       "'1.6.0'"
      ]
     },
     "execution_count": 2,
     "metadata": {},
     "output_type": "execute_result"
    }
   ],
   "source": [
    "scipy.__version__"
   ]
  },
  {
   "cell_type": "markdown",
   "metadata": {},
   "source": [
    "# Super Market example"
   ]
  },
  {
   "cell_type": "code",
   "execution_count": 3,
   "metadata": {
    "ExecuteTime": {
     "end_time": "2021-07-08T16:15:21.339245Z",
     "start_time": "2021-07-08T16:15:21.316134Z"
    }
   },
   "outputs": [
    {
     "data": {
      "text/plain": [
       "2.23606797749979"
      ]
     },
     "execution_count": 3,
     "metadata": {},
     "output_type": "execute_result"
    }
   ],
   "source": [
    "(130-120)/(40/pow(80,0.5))"
   ]
  },
  {
   "cell_type": "code",
   "execution_count": 4,
   "metadata": {
    "ExecuteTime": {
     "end_time": "2021-04-18T11:10:03.031787Z",
     "start_time": "2021-04-18T11:10:03.012596Z"
    }
   },
   "outputs": [
    {
     "data": {
      "text/plain": [
       "0.014292908802574056"
      ]
     },
     "execution_count": 4,
     "metadata": {},
     "output_type": "execute_result"
    }
   ],
   "source": [
    "1-stats.t.cdf(2.23,df=79)"
   ]
  },
  {
   "cell_type": "markdown",
   "metadata": {},
   "source": [
    "# Call Center example"
   ]
  },
  {
   "cell_type": "code",
   "execution_count": 5,
   "metadata": {
    "ExecuteTime": {
     "end_time": "2021-03-28T07:07:34.766895Z",
     "start_time": "2021-03-28T07:07:34.730901Z"
    }
   },
   "outputs": [
    {
     "data": {
      "text/plain": [
       "1.4142135623730943"
      ]
     },
     "execution_count": 5,
     "metadata": {},
     "output_type": "execute_result"
    }
   ],
   "source": [
    "(4.6-4)/(3/np.sqrt(50))"
   ]
  },
  {
   "cell_type": "code",
   "execution_count": 6,
   "metadata": {
    "ExecuteTime": {
     "end_time": "2021-02-06T16:24:21.996418Z",
     "start_time": "2021-02-06T16:24:21.987450Z"
    }
   },
   "outputs": [
    {
     "data": {
      "text/plain": [
       "0.1648559451804547"
      ]
     },
     "execution_count": 6,
     "metadata": {},
     "output_type": "execute_result"
    }
   ],
   "source": [
    "2*stats.t.cdf(-1.41,df=49)"
   ]
  },
  {
   "cell_type": "code",
   "execution_count": 7,
   "metadata": {
    "ExecuteTime": {
     "end_time": "2021-07-08T16:24:48.473378Z",
     "start_time": "2021-07-08T16:24:48.422251Z"
    }
   },
   "outputs": [
    {
     "name": "stdout",
     "output_type": "stream",
     "text": [
      "0.16362201811838478\n"
     ]
    }
   ],
   "source": [
    "TS=(4.6-4)/(3/np.sqrt(50))\n",
    "p_value=2*stats.t.cdf(-TS,df=49)\n",
    "print(p_value)"
   ]
  },
  {
   "cell_type": "markdown",
   "metadata": {},
   "source": [
    "# One sample test"
   ]
  },
  {
   "cell_type": "code",
   "execution_count": 8,
   "metadata": {
    "ExecuteTime": {
     "end_time": "2021-04-18T11:20:11.445373Z",
     "start_time": "2021-04-18T11:20:11.439787Z"
    }
   },
   "outputs": [],
   "source": [
    "data=[0.593, 0.142, 0.329, 0.691, 0.231, 0.793, 0.519, 0.392, 0.418]"
   ]
  },
  {
   "cell_type": "code",
   "execution_count": 9,
   "metadata": {
    "ExecuteTime": {
     "end_time": "2021-04-18T11:20:11.972501Z",
     "start_time": "2021-04-18T11:20:11.968276Z"
    }
   },
   "outputs": [],
   "source": [
    "#'two-sided', 'less', 'greater'"
   ]
  },
  {
   "cell_type": "code",
   "execution_count": 11,
   "metadata": {
    "ExecuteTime": {
     "end_time": "2021-04-18T11:20:12.505412Z",
     "start_time": "2021-04-18T11:20:12.479333Z"
    }
   },
   "outputs": [
    {
     "data": {
      "text/plain": [
       "Ttest_1sampResult(statistic=2.2050588385131595, pvalue=0.029265164842448826)"
      ]
     },
     "execution_count": 11,
     "metadata": {},
     "output_type": "execute_result"
    }
   ],
   "source": [
    "p=scipy.stats.ttest_1samp(data,0.3,alternative=\"greater\")\n",
    "p"
   ]
  },
  {
   "cell_type": "markdown",
   "metadata": {},
   "source": [
    "# Two sample t- test"
   ]
  },
  {
   "cell_type": "code",
   "execution_count": 23,
   "metadata": {
    "ExecuteTime": {
     "end_time": "2021-08-28T06:12:48.657012Z",
     "start_time": "2021-08-28T06:12:48.652103Z"
    }
   },
   "outputs": [],
   "source": [
    "Control=pd.Series([91, 87, 99, 77, 88, 91])\n",
    "Treat =pd.Series([101, 110, 103, 93, 99, 104])  \n"
   ]
  },
  {
   "cell_type": "code",
   "execution_count": 25,
   "metadata": {
    "ExecuteTime": {
     "end_time": "2021-08-28T06:14:06.921974Z",
     "start_time": "2021-08-28T06:14:06.906713Z"
    }
   },
   "outputs": [
    {
     "data": {
      "text/plain": [
       "Ttest_indResult(statistic=-3.445612673536487, pvalue=0.006272124350809803)"
      ]
     },
     "execution_count": 25,
     "metadata": {},
     "output_type": "execute_result"
    }
   ],
   "source": [
    "stats.ttest_ind( Control,Treat,alternative=\"two-sided\")"
   ]
  },
  {
   "cell_type": "markdown",
   "metadata": {},
   "source": [
    "# 2 Proportion Test"
   ]
  },
  {
   "cell_type": "code",
   "execution_count": 3,
   "metadata": {
    "ExecuteTime": {
     "end_time": "2021-08-28T06:17:18.407478Z",
     "start_time": "2021-08-28T06:17:18.386760Z"
    }
   },
   "outputs": [],
   "source": [
    "import numpy as np"
   ]
  },
  {
   "cell_type": "code",
   "execution_count": 16,
   "metadata": {
    "ExecuteTime": {
     "end_time": "2021-08-28T06:28:25.929599Z",
     "start_time": "2021-08-28T06:28:25.916237Z"
    }
   },
   "outputs": [],
   "source": [
    "#generating Data:\n",
    "\n",
    "n1 = 1000000\n",
    "p1 = 0.491\n",
    "\n",
    "n2 = 1000000\n",
    "p2 =0.490"
   ]
  },
  {
   "cell_type": "code",
   "execution_count": 17,
   "metadata": {
    "ExecuteTime": {
     "end_time": "2021-08-28T06:28:26.312470Z",
     "start_time": "2021-08-28T06:28:26.302154Z"
    }
   },
   "outputs": [],
   "source": [
    "sample1 = np.random.binomial(1, p1, n1)\n",
    "sample2 = np.random.binomial(1, p2, n2)"
   ]
  },
  {
   "cell_type": "code",
   "execution_count": 18,
   "metadata": {
    "ExecuteTime": {
     "end_time": "2021-08-28T06:28:26.645509Z",
     "start_time": "2021-08-28T06:28:26.610179Z"
    },
    "scrolled": true
   },
   "outputs": [
    {
     "data": {
      "text/plain": [
       "array([0, 1, 0, ..., 1, 1, 0])"
      ]
     },
     "execution_count": 18,
     "metadata": {},
     "output_type": "execute_result"
    }
   ],
   "source": [
    "sample1"
   ]
  },
  {
   "cell_type": "code",
   "execution_count": 19,
   "metadata": {
    "ExecuteTime": {
     "end_time": "2021-08-28T06:28:26.931534Z",
     "start_time": "2021-08-28T06:28:26.910157Z"
    }
   },
   "outputs": [],
   "source": [
    "#conda install -c conda-forge statsmodels\n"
   ]
  },
  {
   "cell_type": "code",
   "execution_count": 20,
   "metadata": {
    "ExecuteTime": {
     "end_time": "2021-08-28T06:28:27.522340Z",
     "start_time": "2021-08-28T06:28:27.515452Z"
    }
   },
   "outputs": [],
   "source": [
    "#pip install statsmodels"
   ]
  },
  {
   "cell_type": "code",
   "execution_count": 21,
   "metadata": {
    "ExecuteTime": {
     "end_time": "2021-08-28T06:28:27.952167Z",
     "start_time": "2021-08-28T06:28:27.934051Z"
    }
   },
   "outputs": [
    {
     "data": {
      "text/plain": [
       "(2.5078365716084576, 0.012147362032531429, 1999998.0)"
      ]
     },
     "execution_count": 21,
     "metadata": {},
     "output_type": "execute_result"
    }
   ],
   "source": [
    "import statsmodels.api as sm\n",
    "sm.stats.ttest_ind(sample1, sample2)"
   ]
  },
  {
   "cell_type": "code",
   "execution_count": null,
   "metadata": {},
   "outputs": [],
   "source": []
  }
 ],
 "metadata": {
  "kernelspec": {
   "display_name": "Python 3",
   "language": "python",
   "name": "python3"
  },
  "language_info": {
   "codemirror_mode": {
    "name": "ipython",
    "version": 3
   },
   "file_extension": ".py",
   "mimetype": "text/x-python",
   "name": "python",
   "nbconvert_exporter": "python",
   "pygments_lexer": "ipython3",
   "version": "3.8.8"
  }
 },
 "nbformat": 4,
 "nbformat_minor": 2
}
